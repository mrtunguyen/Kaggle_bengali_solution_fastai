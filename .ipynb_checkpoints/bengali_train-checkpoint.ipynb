{
 "cells": [
  {
   "cell_type": "code",
   "execution_count": 1,
   "metadata": {
    "ExecuteTime": {
     "end_time": "2020-03-05T06:59:14.806531Z",
     "start_time": "2020-03-05T06:59:12.031182Z"
    }
   },
   "outputs": [
    {
     "data": {
      "text/plain": [
       "'1.0.58'"
      ]
     },
     "execution_count": 1,
     "metadata": {},
     "output_type": "execute_result"
    }
   ],
   "source": [
    "%reload_ext autoreload\n",
    "%autoreload 2\n",
    "%matplotlib inline\n",
    "\n",
    "import fastai\n",
    "from fastai.vision import *\n",
    "from fastai.layers import conv1d\n",
    "from fastai.vision.learner import SelfAttention\n",
    "from fastai.callbacks import SaveModelCallback, ReduceLROnPlateauCallback, CSVLogger\n",
    "from fastai.callbacks.tensorboard import LearnerTensorboardWriter\n",
    "import os\n",
    "from sklearn.model_selection import KFold\n",
    "from albumentations.core.transforms_interface import DualTransform\n",
    "import albumentations as aug\n",
    "from optimizers import *\n",
    "from mish_activation import *\n",
    "import pretrainedmodels\n",
    "from transformer import *\n",
    "from utils import *\n",
    "from seresnext import ResNext50\n",
    "from sklearn.model_selection import StratifiedKFold, GroupKFold, train_test_split\n",
    "import warnings\n",
    "warnings.filterwarnings(\"ignore\")"
   ]
  },
  {
   "cell_type": "markdown",
   "metadata": {},
   "source": [
    "## Data"
   ]
  },
  {
   "cell_type": "code",
   "execution_count": 1,
   "metadata": {
    "ExecuteTime": {
     "end_time": "2020-06-05T20:56:44.596325Z",
     "start_time": "2020-06-05T20:56:44.591880Z"
    }
   },
   "outputs": [],
   "source": [
    "exper = 'training'\n",
    "#image original\n",
    "#rotate, cutout"
   ]
  },
  {
   "cell_type": "code",
   "execution_count": 4,
   "metadata": {
    "ExecuteTime": {
     "end_time": "2020-03-05T06:59:14.889477Z",
     "start_time": "2020-03-05T06:59:14.863540Z"
    }
   },
   "outputs": [],
   "source": [
    "sz = 128\n",
    "bs = 48\n",
    "nfolds = 5 #keep the same split as the initial dataset\n",
    "fold = 0\n",
    "SEED = 2020\n",
    "TRAIN = 'data/images_original'\n",
    "LABELS = '../data/train.csv'"
   ]
  },
  {
   "cell_type": "code",
   "execution_count": 5,
   "metadata": {
    "ExecuteTime": {
     "end_time": "2020-03-05T06:59:15.874922Z",
     "start_time": "2020-03-05T06:59:15.629773Z"
    }
   },
   "outputs": [],
   "source": [
    "df = pd.read_csv(LABELS)\n",
    "nunique = list(df.nunique())[1:-1]"
   ]
  },
  {
   "cell_type": "code",
   "execution_count": 7,
   "metadata": {
    "ExecuteTime": {
     "end_time": "2020-03-05T06:59:16.420311Z",
     "start_time": "2020-03-05T06:59:16.169373Z"
    }
   },
   "outputs": [],
   "source": [
    "kfold = StratifiedKFold(n_splits=5, random_state=123)\n",
    "train_idx, val_idx = [*kfold.split(df.image_id, df.grapheme_root.values)][fold]"
   ]
  },
  {
   "cell_type": "code",
   "execution_count": 8,
   "metadata": {
    "ExecuteTime": {
     "end_time": "2020-03-05T06:59:21.716154Z",
     "start_time": "2020-03-05T06:59:20.934732Z"
    }
   },
   "outputs": [],
   "source": [
    "stats = ([0.0692], [0.2051])\n",
    "data = (ImageList.from_df(df, path='/home/ubuntu/datalab/kaggle/2020_bengali_handwritten', folder=TRAIN, suffix='.jpg', \n",
    "        cols='image_id', convert_mode='RGB')\n",
    "        .split_by_idx(valid_idx = val_idx)\n",
    "        .label_from_df(cols=['grapheme_root','vowel_diacritic','consonant_diacritic'])\n",
    "        .transform(([rotate(degrees=(-10, 10), p=0.5), cutout()], no_transform()), size=sz, padding_mode='zeros')\n",
    "        .databunch(bs=bs))\n",
    "\n",
    "# data.show_batch()"
   ]
  },
  {
   "cell_type": "code",
   "execution_count": 9,
   "metadata": {
    "ExecuteTime": {
     "end_time": "2020-03-05T06:59:21.744531Z",
     "start_time": "2020-03-05T06:59:21.717660Z"
    }
   },
   "outputs": [
    {
     "data": {
      "text/plain": [
       "(160596, 40244)"
      ]
     },
     "execution_count": 9,
     "metadata": {},
     "output_type": "execute_result"
    }
   ],
   "source": [
    "len(data.train_ds), len(data.valid_ds)"
   ]
  },
  {
   "cell_type": "markdown",
   "metadata": {},
   "source": [
    "## Model"
   ]
  },
  {
   "cell_type": "code",
   "execution_count": 10,
   "metadata": {
    "ExecuteTime": {
     "end_time": "2020-03-05T06:59:21.838465Z",
     "start_time": "2020-03-05T06:59:21.806954Z"
    }
   },
   "outputs": [],
   "source": [
    "class Head(nn.Module):\n",
    "    def __init__(self, nc, n, ps=0.5):\n",
    "        super().__init__()\n",
    "        layers = [nn.Dropout(0.5), res_block(nc, dense=False, bottle=True), \n",
    "                  nn.AdaptiveAvgPool2d(1), Flatten(),\n",
    "                  nn.LayerNorm(nc), nn.Linear(nc, 512), nn.ReLU(inplace=True),\n",
    "                  nn.LayerNorm(512), nn.Linear(512, n)]\n",
    "#         layers += [SimpleSelfAttention(n)]\n",
    "        self.fc = nn.Sequential(*layers)\n",
    "        self._init_weight()\n",
    "        \n",
    "    def _init_weight(self):\n",
    "        for m in self.modules():\n",
    "            if isinstance(m, nn.Conv2d):\n",
    "                torch.nn.init.kaiming_normal_(m.weight)\n",
    "            elif isinstance(m, nn.BatchNorm2d):\n",
    "                m.weight.data.fill_(1.0)\n",
    "                m.bias.data.zero_()\n",
    "        \n",
    "    def forward(self, x):\n",
    "        return self.fc(x)\n"
   ]
  },
  {
   "cell_type": "code",
   "execution_count": 12,
   "metadata": {
    "ExecuteTime": {
     "end_time": "2020-03-05T06:59:26.350157Z",
     "start_time": "2020-03-05T06:59:26.317850Z"
    }
   },
   "outputs": [],
   "source": [
    "class Net(nn.Module):\n",
    "    def load_pretrain(self, skip=['block0.','logit.'], is_print=True):\n",
    "        load_pretrain(self, skip, pretrain_file=PRETRAIN_FILE, conversion=CONVERSION, is_print=is_print)\n",
    "\n",
    "    def __init__(self, num_class=[168, 11, 7]):\n",
    "        super(Net, self).__init__()\n",
    "        e = ResNext50()\n",
    "\n",
    "        self.block0 = e.block0\n",
    "        self.block1 = e.block1\n",
    "        self.block2 = e.block2\n",
    "        self.block3 = e.block3\n",
    "        self.block4 = e.block4\n",
    "        e = None  #dropped\n",
    "        \n",
    "#         self.dropblock0 = DropBlock2D(drop_prob=0.2, block_size=16)\n",
    "#         self.dropblock1 = DropBlock2D(drop_prob=0.2, block_size=8)\n",
    "        self.logit = nn.ModuleList(\n",
    "            [ Head(2048, c) for c in num_class ]\n",
    "        )\n",
    "\n",
    "    def forward(self, x):\n",
    "        batch_size,C,H,W = x.shape\n",
    "#         x = x.repeat(1, 3, 1, 1)\n",
    "#         if (H,W) !=(96,168):\n",
    "#              x = F.interpolate(x,size=(96,168), mode='bilinear',align_corners=False)\n",
    "        x = self.block0(x)\n",
    "#         x = self.dropblock0(x).half()\n",
    "        x = self.block1(x)\n",
    "#         x = self.dropblock1(x).half()\n",
    "        x = self.block2(x)\n",
    "        x = self.block3(x)\n",
    "        x = self.block4(x)\n",
    "\n",
    "        logit = [l(x) for l in self.logit]\n",
    "\n",
    "        return logit\n"
   ]
  },
  {
   "cell_type": "markdown",
   "metadata": {},
   "source": [
    "## Loss"
   ]
  },
  {
   "cell_type": "code",
   "execution_count": 13,
   "metadata": {
    "ExecuteTime": {
     "end_time": "2020-03-05T06:59:27.230453Z",
     "start_time": "2020-03-05T06:59:27.190957Z"
    }
   },
   "outputs": [],
   "source": [
    "from fastai.vision import LabelSmoothingCrossEntropy\n",
    "class Loss_combine(nn.Module):\n",
    "    def __init__(self):\n",
    "        super().__init__()\n",
    "        \n",
    "    def forward(self, input, target,reduction='mean'):\n",
    "        x1,x2,x3 = input[0], input[1], input[2]\n",
    "        x1,x2,x3 = x1.float(),x2.float(),x3.float()\n",
    "        y = target.long()\n",
    "        loss_fct = LabelSmoothingCrossEntropy(eps=0.1, reduction=reduction)\n",
    "        return 0.5 * loss_fct(x1, y[:, 0]) + \\\n",
    "               0.25 * loss_fct(x1, y[:, 0]) + \\\n",
    "               0.25 * loss_fct(x1, y[:, 0])"
   ]
  },
  {
   "cell_type": "markdown",
   "metadata": {},
   "source": [
    "## Metric"
   ]
  },
  {
   "cell_type": "code",
   "execution_count": 14,
   "metadata": {
    "ExecuteTime": {
     "end_time": "2020-03-05T06:59:32.455140Z",
     "start_time": "2020-03-05T06:59:28.005920Z"
    }
   },
   "outputs": [],
   "source": [
    "model = Net()\n",
    "learn = Learner(data, model, loss_func=Loss_combine(), opt_func=Over9000,\n",
    "        metrics=[Metric_root(),Metric_vowel(),Metric_consonant(),Metric_tot()])\n",
    "learn.clip_grad = 0.1\n",
    "learn.split([model.logit]);\n",
    "learn = learn.to_fp16()"
   ]
  },
  {
   "cell_type": "markdown",
   "metadata": {},
   "source": [
    "## Training"
   ]
  },
  {
   "cell_type": "code",
   "execution_count": 15,
   "metadata": {
    "ExecuteTime": {
     "end_time": "2020-03-05T07:00:27.258222Z",
     "start_time": "2020-03-05T06:59:33.058469Z"
    },
    "scrolled": true
   },
   "outputs": [
    {
     "data": {
      "text/html": [],
      "text/plain": [
       "<IPython.core.display.HTML object>"
      ]
     },
     "metadata": {},
     "output_type": "display_data"
    },
    {
     "name": "stdout",
     "output_type": "stream",
     "text": [
      "LR Finder is complete, type {learner_name}.recorder.plot() to see the graph.\n"
     ]
    }
   ],
   "source": [
    "learn.lr_find()"
   ]
  },
  {
   "cell_type": "code",
   "execution_count": 16,
   "metadata": {
    "ExecuteTime": {
     "end_time": "2020-03-05T07:00:29.129790Z",
     "start_time": "2020-03-05T07:00:28.738414Z"
    }
   },
   "outputs": [
    {
     "data": {
      "image/png": "[encoded data removed]",
      "text/plain": [
       "<Figure size 432x288 with 1 Axes>"
      ]
     },
     "metadata": {
      "needs_background": "light"
     },
     "output_type": "display_data"
    }
   ],
   "source": [
    "learn.recorder.plot()"
   ]
  },
  {
   "cell_type": "code",
   "execution_count": 17,
   "metadata": {
    "ExecuteTime": {
     "end_time": "2020-03-05T20:06:01.829424Z",
     "start_time": "2020-03-05T07:00:46.922530Z"
    }
   },
   "outputs": [
    {
     "data": {
      "text/html": [
       "\n",
       "    <div>\n",
       "        <style>\n",
       "            /* Turns off some styling */\n",
       "            progress {\n",
       "                /* gets rid of default border in Firefox and Opera. */\n",
       "                border: none;\n",
       "                /* Needs to be in here for Safari polyfill so background images work as expected. */\n",
       "                background-size: auto;\n",
       "            }\n",
       "            .progress-bar-interrupted, .progress-bar-interrupted::-webkit-progress-bar {\n",
       "                background: #F44336;\n",
       "            }\n",
       "        </style>\n",
       "      <progress value='28' class='' max='100', style='width:300px; height:20px; vertical-align: middle;'></progress>\n",
       "      28.00% [28/100 12:47:52<32:54:32]\n",
       "    </div>\n",
       "    \n",
       "<table border=\"1\" class=\"dataframe\">\n",
       "  <thead>\n",
       "    <tr style=\"text-align: left;\">\n",
       "      <th>epoch</th>\n",
       "      <th>train_loss</th>\n",
       "      <th>valid_loss</th>\n",
       "      <th>Metric_root</th>\n",
       "      <th>Metric_vowel</th>\n",
       "      <th>Metric_consonant</th>\n",
       "      <th>metric_tot</th>\n",
       "      <th>time</th>\n",
       "    </tr>\n",
       "  </thead>\n",
       "  <tbody>\n",
       "    <tr>\n",
       "      <td>0</td>\n",
       "      <td>0.962564</td>\n",
       "      <td>0.394694</td>\n",
       "      <td>0.834674</td>\n",
       "      <td>0.936565</td>\n",
       "      <td>0.926991</td>\n",
       "      <td>0.883226</td>\n",
       "      <td>27:20</td>\n",
       "    </tr>\n",
       "    <tr>\n",
       "      <td>1</td>\n",
       "      <td>0.746746</td>\n",
       "      <td>0.241961</td>\n",
       "      <td>0.900613</td>\n",
       "      <td>0.954800</td>\n",
       "      <td>0.952054</td>\n",
       "      <td>0.927020</td>\n",
       "      <td>27:32</td>\n",
       "    </tr>\n",
       "    <tr>\n",
       "      <td>2</td>\n",
       "      <td>0.633397</td>\n",
       "      <td>0.210872</td>\n",
       "      <td>0.920589</td>\n",
       "      <td>0.964501</td>\n",
       "      <td>0.958645</td>\n",
       "      <td>0.941081</td>\n",
       "      <td>27:16</td>\n",
       "    </tr>\n",
       "    <tr>\n",
       "      <td>3</td>\n",
       "      <td>0.577379</td>\n",
       "      <td>0.172639</td>\n",
       "      <td>0.936098</td>\n",
       "      <td>0.965705</td>\n",
       "      <td>0.959882</td>\n",
       "      <td>0.949446</td>\n",
       "      <td>27:16</td>\n",
       "    </tr>\n",
       "    <tr>\n",
       "      <td>4</td>\n",
       "      <td>0.552488</td>\n",
       "      <td>0.156037</td>\n",
       "      <td>0.946219</td>\n",
       "      <td>0.969704</td>\n",
       "      <td>0.956048</td>\n",
       "      <td>0.954548</td>\n",
       "      <td>27:17</td>\n",
       "    </tr>\n",
       "    <tr>\n",
       "      <td>5</td>\n",
       "      <td>0.536465</td>\n",
       "      <td>0.143896</td>\n",
       "      <td>0.948586</td>\n",
       "      <td>0.973050</td>\n",
       "      <td>0.964170</td>\n",
       "      <td>0.958598</td>\n",
       "      <td>27:17</td>\n",
       "    </tr>\n",
       "    <tr>\n",
       "      <td>6</td>\n",
       "      <td>0.509241</td>\n",
       "      <td>0.143226</td>\n",
       "      <td>0.950753</td>\n",
       "      <td>0.974066</td>\n",
       "      <td>0.969354</td>\n",
       "      <td>0.961231</td>\n",
       "      <td>27:18</td>\n",
       "    </tr>\n",
       "    <tr>\n",
       "      <td>7</td>\n",
       "      <td>0.501544</td>\n",
       "      <td>0.133785</td>\n",
       "      <td>0.954737</td>\n",
       "      <td>0.974202</td>\n",
       "      <td>0.972974</td>\n",
       "      <td>0.964163</td>\n",
       "      <td>27:19</td>\n",
       "    </tr>\n",
       "    <tr>\n",
       "      <td>8</td>\n",
       "      <td>0.465308</td>\n",
       "      <td>0.129672</td>\n",
       "      <td>0.956021</td>\n",
       "      <td>0.974644</td>\n",
       "      <td>0.970336</td>\n",
       "      <td>0.964255</td>\n",
       "      <td>27:22</td>\n",
       "    </tr>\n",
       "    <tr>\n",
       "      <td>9</td>\n",
       "      <td>0.451858</td>\n",
       "      <td>0.124253</td>\n",
       "      <td>0.957854</td>\n",
       "      <td>0.977412</td>\n",
       "      <td>0.973640</td>\n",
       "      <td>0.966690</td>\n",
       "      <td>27:24</td>\n",
       "    </tr>\n",
       "    <tr>\n",
       "      <td>10</td>\n",
       "      <td>0.440519</td>\n",
       "      <td>0.123105</td>\n",
       "      <td>0.958023</td>\n",
       "      <td>0.973395</td>\n",
       "      <td>0.971966</td>\n",
       "      <td>0.965352</td>\n",
       "      <td>27:25</td>\n",
       "    </tr>\n",
       "    <tr>\n",
       "      <td>11</td>\n",
       "      <td>0.440455</td>\n",
       "      <td>0.115965</td>\n",
       "      <td>0.959535</td>\n",
       "      <td>0.977732</td>\n",
       "      <td>0.973704</td>\n",
       "      <td>0.967626</td>\n",
       "      <td>27:24</td>\n",
       "    </tr>\n",
       "    <tr>\n",
       "      <td>12</td>\n",
       "      <td>0.430957</td>\n",
       "      <td>0.122496</td>\n",
       "      <td>0.961721</td>\n",
       "      <td>0.980066</td>\n",
       "      <td>0.971872</td>\n",
       "      <td>0.968845</td>\n",
       "      <td>27:25</td>\n",
       "    </tr>\n",
       "    <tr>\n",
       "      <td>13</td>\n",
       "      <td>0.420326</td>\n",
       "      <td>0.114285</td>\n",
       "      <td>0.962395</td>\n",
       "      <td>0.979754</td>\n",
       "      <td>0.976093</td>\n",
       "      <td>0.970159</td>\n",
       "      <td>27:27</td>\n",
       "    </tr>\n",
       "    <tr>\n",
       "      <td>14</td>\n",
       "      <td>0.425874</td>\n",
       "      <td>0.115739</td>\n",
       "      <td>0.960107</td>\n",
       "      <td>0.979706</td>\n",
       "      <td>0.978595</td>\n",
       "      <td>0.969628</td>\n",
       "      <td>27:27</td>\n",
       "    </tr>\n",
       "    <tr>\n",
       "      <td>15</td>\n",
       "      <td>0.393600</td>\n",
       "      <td>0.116495</td>\n",
       "      <td>0.960340</td>\n",
       "      <td>0.979283</td>\n",
       "      <td>0.978634</td>\n",
       "      <td>0.969650</td>\n",
       "      <td>27:28</td>\n",
       "    </tr>\n",
       "    <tr>\n",
       "      <td>16</td>\n",
       "      <td>0.358425</td>\n",
       "      <td>0.121619</td>\n",
       "      <td>0.962628</td>\n",
       "      <td>0.980117</td>\n",
       "      <td>0.976112</td>\n",
       "      <td>0.970371</td>\n",
       "      <td>27:27</td>\n",
       "    </tr>\n",
       "    <tr>\n",
       "      <td>17</td>\n",
       "      <td>0.381272</td>\n",
       "      <td>0.112250</td>\n",
       "      <td>0.962986</td>\n",
       "      <td>0.980539</td>\n",
       "      <td>0.972132</td>\n",
       "      <td>0.969661</td>\n",
       "      <td>27:27</td>\n",
       "    </tr>\n",
       "    <tr>\n",
       "      <td>18</td>\n",
       "      <td>0.371355</td>\n",
       "      <td>0.116321</td>\n",
       "      <td>0.963277</td>\n",
       "      <td>0.978095</td>\n",
       "      <td>0.972686</td>\n",
       "      <td>0.969334</td>\n",
       "      <td>27:27</td>\n",
       "    </tr>\n",
       "    <tr>\n",
       "      <td>19</td>\n",
       "      <td>0.359909</td>\n",
       "      <td>0.111638</td>\n",
       "      <td>0.963272</td>\n",
       "      <td>0.973799</td>\n",
       "      <td>0.973339</td>\n",
       "      <td>0.968420</td>\n",
       "      <td>27:26</td>\n",
       "    </tr>\n",
       "    <tr>\n",
       "      <td>20</td>\n",
       "      <td>0.349754</td>\n",
       "      <td>0.117775</td>\n",
       "      <td>0.961735</td>\n",
       "      <td>0.980549</td>\n",
       "      <td>0.969014</td>\n",
       "      <td>0.968258</td>\n",
       "      <td>27:26</td>\n",
       "    </tr>\n",
       "    <tr>\n",
       "      <td>21</td>\n",
       "      <td>0.381388</td>\n",
       "      <td>0.112429</td>\n",
       "      <td>0.963564</td>\n",
       "      <td>0.981425</td>\n",
       "      <td>0.973939</td>\n",
       "      <td>0.970623</td>\n",
       "      <td>27:26</td>\n",
       "    </tr>\n",
       "    <tr>\n",
       "      <td>22</td>\n",
       "      <td>0.365317</td>\n",
       "      <td>0.113557</td>\n",
       "      <td>0.963083</td>\n",
       "      <td>0.979896</td>\n",
       "      <td>0.979646</td>\n",
       "      <td>0.971427</td>\n",
       "      <td>27:26</td>\n",
       "    </tr>\n",
       "    <tr>\n",
       "      <td>23</td>\n",
       "      <td>0.341054</td>\n",
       "      <td>0.112916</td>\n",
       "      <td>0.965167</td>\n",
       "      <td>0.981586</td>\n",
       "      <td>0.977781</td>\n",
       "      <td>0.972425</td>\n",
       "      <td>27:26</td>\n",
       "    </tr>\n",
       "    <tr>\n",
       "      <td>24</td>\n",
       "      <td>0.324858</td>\n",
       "      <td>0.114126</td>\n",
       "      <td>0.966023</td>\n",
       "      <td>0.981761</td>\n",
       "      <td>0.978381</td>\n",
       "      <td>0.973047</td>\n",
       "      <td>27:26</td>\n",
       "    </tr>\n",
       "    <tr>\n",
       "      <td>25</td>\n",
       "      <td>0.334865</td>\n",
       "      <td>0.112891</td>\n",
       "      <td>0.962759</td>\n",
       "      <td>0.981397</td>\n",
       "      <td>0.976543</td>\n",
       "      <td>0.970864</td>\n",
       "      <td>27:26</td>\n",
       "    </tr>\n",
       "    <tr>\n",
       "      <td>26</td>\n",
       "      <td>0.336558</td>\n",
       "      <td>0.112969</td>\n",
       "      <td>0.963610</td>\n",
       "      <td>0.982036</td>\n",
       "      <td>0.976977</td>\n",
       "      <td>0.971558</td>\n",
       "      <td>27:25</td>\n",
       "    </tr>\n",
       "    <tr>\n",
       "      <td>27</td>\n",
       "      <td>0.316902</td>\n",
       "      <td>0.115470</td>\n",
       "      <td>0.966857</td>\n",
       "      <td>0.981922</td>\n",
       "      <td>0.973042</td>\n",
       "      <td>0.972169</td>\n",
       "      <td>27:25</td>\n",
       "    </tr>\n",
       "  </tbody>\n",
       "</table><p>\n",
       "\n",
       "    <div>\n",
       "        <style>\n",
       "            /* Turns off some styling */\n",
       "            progress {\n",
       "                /* gets rid of default border in Firefox and Opera. */\n",
       "                border: none;\n",
       "                /* Needs to be in here for Safari polyfill so background images work as expected. */\n",
       "                background-size: auto;\n",
       "            }\n",
       "            .progress-bar-interrupted, .progress-bar-interrupted::-webkit-progress-bar {\n",
       "                background: #F44336;\n",
       "            }\n",
       "        </style>\n",
       "      <progress value='0' class='progress-bar-interrupted' max='3345', style='width:300px; height:20px; vertical-align: middle;'></progress>\n",
       "      Interrupted\n",
       "    </div>\n",
       "    "
      ],
      "text/plain": [
       "<IPython.core.display.HTML object>"
      ]
     },
     "metadata": {},
     "output_type": "display_data"
    },
    {
     "ename": "KeyboardInterrupt",
     "evalue": "",
     "output_type": "error",
     "traceback": [
      "\u001b[0;31m\u001b[0m",
      "\u001b[0;31mKeyboardInterrupt\u001b[0mTraceback (most recent call last)",
      "\u001b[0;32m<ipython-input-17-780ce173e342>\u001b[0m in \u001b[0;36m<module>\u001b[0;34m\u001b[0m\n\u001b[1;32m      4\u001b[0m                      \u001b[0mCSVLogger\u001b[0m\u001b[0;34m(\u001b[0m\u001b[0mlearn\u001b[0m\u001b[0;34m,\u001b[0m\u001b[0;34mf'log_{exper}_fold{fold}'\u001b[0m\u001b[0;34m)\u001b[0m\u001b[0;34m,\u001b[0m\u001b[0;34m\u001b[0m\u001b[0;34m\u001b[0m\u001b[0m\n\u001b[1;32m      5\u001b[0m                      \u001b[0mSaveModelCallback\u001b[0m\u001b[0;34m(\u001b[0m\u001b[0mlearn\u001b[0m\u001b[0;34m,\u001b[0m\u001b[0mmonitor\u001b[0m\u001b[0;34m=\u001b[0m\u001b[0;34m'metric_tot'\u001b[0m\u001b[0;34m,\u001b[0m \u001b[0mmode\u001b[0m\u001b[0;34m=\u001b[0m\u001b[0;34m'max'\u001b[0m\u001b[0;34m,\u001b[0m\u001b[0mname\u001b[0m\u001b[0;34m=\u001b[0m\u001b[0;34mf'{exper}_{fold}'\u001b[0m\u001b[0;34m)\u001b[0m\u001b[0;34m,\u001b[0m\u001b[0;34m\u001b[0m\u001b[0;34m\u001b[0m\u001b[0m\n\u001b[0;32m----> 6\u001b[0;31m                      \u001b[0mMixUpCallback\u001b[0m\u001b[0;34m(\u001b[0m\u001b[0mlearn\u001b[0m\u001b[0;34m,\u001b[0m \u001b[0malpha\u001b[0m\u001b[0;34m=\u001b[0m\u001b[0;36m0.1\u001b[0m\u001b[0;34m)\u001b[0m\u001b[0;34m,\u001b[0m\u001b[0;34m\u001b[0m\u001b[0;34m\u001b[0m\u001b[0m\n\u001b[0m\u001b[1;32m      7\u001b[0m \u001b[0;31m#                      LearnerTensorboardWriter(learn, base_dir=Path('tensorboard/'), name = exper)\u001b[0m\u001b[0;34m\u001b[0m\u001b[0;34m\u001b[0m\u001b[0;34m\u001b[0m\u001b[0m\n\u001b[1;32m      8\u001b[0m                     ])\n",
      "\u001b[0;32m/opt/conda/lib/python3.7/site-packages/fastai/basic_train.py\u001b[0m in \u001b[0;36mfit\u001b[0;34m(self, epochs, lr, wd, callbacks)\u001b[0m\n\u001b[1;32m    198\u001b[0m         \u001b[0;32melse\u001b[0m\u001b[0;34m:\u001b[0m \u001b[0mself\u001b[0m\u001b[0;34m.\u001b[0m\u001b[0mopt\u001b[0m\u001b[0;34m.\u001b[0m\u001b[0mlr\u001b[0m\u001b[0;34m,\u001b[0m\u001b[0mself\u001b[0m\u001b[0;34m.\u001b[0m\u001b[0mopt\u001b[0m\u001b[0;34m.\u001b[0m\u001b[0mwd\u001b[0m \u001b[0;34m=\u001b[0m \u001b[0mlr\u001b[0m\u001b[0;34m,\u001b[0m\u001b[0mwd\u001b[0m\u001b[0;34m\u001b[0m\u001b[0;34m\u001b[0m\u001b[0m\n\u001b[1;32m    199\u001b[0m         \u001b[0mcallbacks\u001b[0m \u001b[0;34m=\u001b[0m \u001b[0;34m[\u001b[0m\u001b[0mcb\u001b[0m\u001b[0;34m(\u001b[0m\u001b[0mself\u001b[0m\u001b[0;34m)\u001b[0m \u001b[0;32mfor\u001b[0m \u001b[0mcb\u001b[0m \u001b[0;32min\u001b[0m \u001b[0mself\u001b[0m\u001b[0;34m.\u001b[0m\u001b[0mcallback_fns\u001b[0m \u001b[0;34m+\u001b[0m \u001b[0mlistify\u001b[0m\u001b[0;34m(\u001b[0m\u001b[0mdefaults\u001b[0m\u001b[0;34m.\u001b[0m\u001b[0mextra_callback_fns\u001b[0m\u001b[0;34m)\u001b[0m\u001b[0;34m]\u001b[0m \u001b[0;34m+\u001b[0m \u001b[0mlistify\u001b[0m\u001b[0;34m(\u001b[0m\u001b[0mcallbacks\u001b[0m\u001b[0;34m)\u001b[0m\u001b[0;34m\u001b[0m\u001b[0;34m\u001b[0m\u001b[0m\n\u001b[0;32m--> 200\u001b[0;31m         \u001b[0mfit\u001b[0m\u001b[0;34m(\u001b[0m\u001b[0mepochs\u001b[0m\u001b[0;34m,\u001b[0m \u001b[0mself\u001b[0m\u001b[0;34m,\u001b[0m \u001b[0mmetrics\u001b[0m\u001b[0;34m=\u001b[0m\u001b[0mself\u001b[0m\u001b[0;34m.\u001b[0m\u001b[0mmetrics\u001b[0m\u001b[0;34m,\u001b[0m \u001b[0mcallbacks\u001b[0m\u001b[0;34m=\u001b[0m\u001b[0mself\u001b[0m\u001b[0;34m.\u001b[0m\u001b[0mcallbacks\u001b[0m\u001b[0;34m+\u001b[0m\u001b[0mcallbacks\u001b[0m\u001b[0;34m)\u001b[0m\u001b[0;34m\u001b[0m\u001b[0;34m\u001b[0m\u001b[0m\n\u001b[0m\u001b[1;32m    201\u001b[0m \u001b[0;34m\u001b[0m\u001b[0m\n\u001b[1;32m    202\u001b[0m     \u001b[0;32mdef\u001b[0m \u001b[0mcreate_opt\u001b[0m\u001b[0;34m(\u001b[0m\u001b[0mself\u001b[0m\u001b[0;34m,\u001b[0m \u001b[0mlr\u001b[0m\u001b[0;34m:\u001b[0m\u001b[0mFloats\u001b[0m\u001b[0;34m,\u001b[0m \u001b[0mwd\u001b[0m\u001b[0;34m:\u001b[0m\u001b[0mFloats\u001b[0m\u001b[0;34m=\u001b[0m\u001b[0;36m0.\u001b[0m\u001b[0;34m)\u001b[0m\u001b[0;34m->\u001b[0m\u001b[0;32mNone\u001b[0m\u001b[0;34m:\u001b[0m\u001b[0;34m\u001b[0m\u001b[0;34m\u001b[0m\u001b[0m\n",
      "\u001b[0;32m/opt/conda/lib/python3.7/site-packages/fastai/basic_train.py\u001b[0m in \u001b[0;36mfit\u001b[0;34m(epochs, learn, callbacks, metrics)\u001b[0m\n\u001b[1;32m     99\u001b[0m             \u001b[0;32mfor\u001b[0m \u001b[0mxb\u001b[0m\u001b[0;34m,\u001b[0m\u001b[0myb\u001b[0m \u001b[0;32min\u001b[0m \u001b[0mprogress_bar\u001b[0m\u001b[0;34m(\u001b[0m\u001b[0mlearn\u001b[0m\u001b[0;34m.\u001b[0m\u001b[0mdata\u001b[0m\u001b[0;34m.\u001b[0m\u001b[0mtrain_dl\u001b[0m\u001b[0;34m,\u001b[0m \u001b[0mparent\u001b[0m\u001b[0;34m=\u001b[0m\u001b[0mpbar\u001b[0m\u001b[0;34m)\u001b[0m\u001b[0;34m:\u001b[0m\u001b[0;34m\u001b[0m\u001b[0;34m\u001b[0m\u001b[0m\n\u001b[1;32m    100\u001b[0m                 \u001b[0mxb\u001b[0m\u001b[0;34m,\u001b[0m \u001b[0myb\u001b[0m \u001b[0;34m=\u001b[0m \u001b[0mcb_handler\u001b[0m\u001b[0;34m.\u001b[0m\u001b[0mon_batch_begin\u001b[0m\u001b[0;34m(\u001b[0m\u001b[0mxb\u001b[0m\u001b[0;34m,\u001b[0m \u001b[0myb\u001b[0m\u001b[0;34m)\u001b[0m\u001b[0;34m\u001b[0m\u001b[0;34m\u001b[0m\u001b[0m\n\u001b[0;32m--> 101\u001b[0;31m                 \u001b[0mloss\u001b[0m \u001b[0;34m=\u001b[0m \u001b[0mloss_batch\u001b[0m\u001b[0;34m(\u001b[0m\u001b[0mlearn\u001b[0m\u001b[0;34m.\u001b[0m\u001b[0mmodel\u001b[0m\u001b[0;34m,\u001b[0m \u001b[0mxb\u001b[0m\u001b[0;34m,\u001b[0m \u001b[0myb\u001b[0m\u001b[0;34m,\u001b[0m \u001b[0mlearn\u001b[0m\u001b[0;34m.\u001b[0m\u001b[0mloss_func\u001b[0m\u001b[0;34m,\u001b[0m \u001b[0mlearn\u001b[0m\u001b[0;34m.\u001b[0m\u001b[0mopt\u001b[0m\u001b[0;34m,\u001b[0m \u001b[0mcb_handler\u001b[0m\u001b[0;34m)\u001b[0m\u001b[0;34m\u001b[0m\u001b[0;34m\u001b[0m\u001b[0m\n\u001b[0m\u001b[1;32m    102\u001b[0m                 \u001b[0;32mif\u001b[0m \u001b[0mcb_handler\u001b[0m\u001b[0;34m.\u001b[0m\u001b[0mon_batch_end\u001b[0m\u001b[0;34m(\u001b[0m\u001b[0mloss\u001b[0m\u001b[0;34m)\u001b[0m\u001b[0;34m:\u001b[0m \u001b[0;32mbreak\u001b[0m\u001b[0;34m\u001b[0m\u001b[0;34m\u001b[0m\u001b[0m\n\u001b[1;32m    103\u001b[0m \u001b[0;34m\u001b[0m\u001b[0m\n",
      "\u001b[0;32m/opt/conda/lib/python3.7/site-packages/fastai/basic_train.py\u001b[0m in \u001b[0;36mloss_batch\u001b[0;34m(model, xb, yb, loss_func, opt, cb_handler)\u001b[0m\n\u001b[1;32m     33\u001b[0m         \u001b[0mloss\u001b[0m\u001b[0;34m,\u001b[0m\u001b[0mskip_bwd\u001b[0m \u001b[0;34m=\u001b[0m \u001b[0mcb_handler\u001b[0m\u001b[0;34m.\u001b[0m\u001b[0mon_backward_begin\u001b[0m\u001b[0;34m(\u001b[0m\u001b[0mloss\u001b[0m\u001b[0;34m)\u001b[0m\u001b[0;34m\u001b[0m\u001b[0;34m\u001b[0m\u001b[0m\n\u001b[1;32m     34\u001b[0m         \u001b[0;32mif\u001b[0m \u001b[0;32mnot\u001b[0m \u001b[0mskip_bwd\u001b[0m\u001b[0;34m:\u001b[0m                     \u001b[0mloss\u001b[0m\u001b[0;34m.\u001b[0m\u001b[0mbackward\u001b[0m\u001b[0;34m(\u001b[0m\u001b[0;34m)\u001b[0m\u001b[0;34m\u001b[0m\u001b[0;34m\u001b[0m\u001b[0m\n\u001b[0;32m---> 35\u001b[0;31m         \u001b[0;32mif\u001b[0m \u001b[0;32mnot\u001b[0m \u001b[0mcb_handler\u001b[0m\u001b[0;34m.\u001b[0m\u001b[0mon_backward_end\u001b[0m\u001b[0;34m(\u001b[0m\u001b[0;34m)\u001b[0m\u001b[0;34m:\u001b[0m \u001b[0mopt\u001b[0m\u001b[0;34m.\u001b[0m\u001b[0mstep\u001b[0m\u001b[0;34m(\u001b[0m\u001b[0;34m)\u001b[0m\u001b[0;34m\u001b[0m\u001b[0;34m\u001b[0m\u001b[0m\n\u001b[0m\u001b[1;32m     36\u001b[0m         \u001b[0;32mif\u001b[0m \u001b[0;32mnot\u001b[0m \u001b[0mcb_handler\u001b[0m\u001b[0;34m.\u001b[0m\u001b[0mon_step_end\u001b[0m\u001b[0;34m(\u001b[0m\u001b[0;34m)\u001b[0m\u001b[0;34m:\u001b[0m     \u001b[0mopt\u001b[0m\u001b[0;34m.\u001b[0m\u001b[0mzero_grad\u001b[0m\u001b[0;34m(\u001b[0m\u001b[0;34m)\u001b[0m\u001b[0;34m\u001b[0m\u001b[0;34m\u001b[0m\u001b[0m\n\u001b[1;32m     37\u001b[0m \u001b[0;34m\u001b[0m\u001b[0m\n",
      "\u001b[0;32m/opt/conda/lib/python3.7/site-packages/fastai/callback.py\u001b[0m in \u001b[0;36mon_backward_end\u001b[0;34m(self)\u001b[0m\n\u001b[1;32m    295\u001b[0m     \u001b[0;32mdef\u001b[0m \u001b[0mon_backward_end\u001b[0m\u001b[0;34m(\u001b[0m\u001b[0mself\u001b[0m\u001b[0;34m)\u001b[0m\u001b[0;34m->\u001b[0m\u001b[0mAny\u001b[0m\u001b[0;34m:\u001b[0m\u001b[0;34m\u001b[0m\u001b[0;34m\u001b[0m\u001b[0m\n\u001b[1;32m    296\u001b[0m         \u001b[0;34m\"Handle end of gradient calculation.\"\u001b[0m\u001b[0;34m\u001b[0m\u001b[0;34m\u001b[0m\u001b[0m\n\u001b[0;32m--> 297\u001b[0;31m         \u001b[0mself\u001b[0m\u001b[0;34m(\u001b[0m\u001b[0;34m'backward_end'\u001b[0m\u001b[0;34m,\u001b[0m \u001b[0mcall_mets\u001b[0m\u001b[0;34m=\u001b[0m\u001b[0;32mFalse\u001b[0m\u001b[0;34m)\u001b[0m\u001b[0;34m\u001b[0m\u001b[0;34m\u001b[0m\u001b[0m\n\u001b[0m\u001b[1;32m    298\u001b[0m         \u001b[0;32mreturn\u001b[0m \u001b[0mself\u001b[0m\u001b[0;34m.\u001b[0m\u001b[0mstate_dict\u001b[0m\u001b[0;34m[\u001b[0m\u001b[0;34m'skip_step'\u001b[0m\u001b[0;34m]\u001b[0m\u001b[0;34m\u001b[0m\u001b[0;34m\u001b[0m\u001b[0m\n\u001b[1;32m    299\u001b[0m \u001b[0;34m\u001b[0m\u001b[0m\n",
      "\u001b[0;32m/opt/conda/lib/python3.7/site-packages/fastai/callback.py\u001b[0m in \u001b[0;36m__call__\u001b[0;34m(self, cb_name, call_mets, **kwargs)\u001b[0m\n\u001b[1;32m    249\u001b[0m         \u001b[0;32mif\u001b[0m \u001b[0mcall_mets\u001b[0m\u001b[0;34m:\u001b[0m\u001b[0;34m\u001b[0m\u001b[0;34m\u001b[0m\u001b[0m\n\u001b[1;32m    250\u001b[0m             \u001b[0;32mfor\u001b[0m \u001b[0mmet\u001b[0m \u001b[0;32min\u001b[0m \u001b[0mself\u001b[0m\u001b[0;34m.\u001b[0m\u001b[0mmetrics\u001b[0m\u001b[0;34m:\u001b[0m \u001b[0mself\u001b[0m\u001b[0;34m.\u001b[0m\u001b[0m_call_and_update\u001b[0m\u001b[0;34m(\u001b[0m\u001b[0mmet\u001b[0m\u001b[0;34m,\u001b[0m \u001b[0mcb_name\u001b[0m\u001b[0;34m,\u001b[0m \u001b[0;34m**\u001b[0m\u001b[0mkwargs\u001b[0m\u001b[0;34m)\u001b[0m\u001b[0;34m\u001b[0m\u001b[0;34m\u001b[0m\u001b[0m\n\u001b[0;32m--> 251\u001b[0;31m         \u001b[0;32mfor\u001b[0m \u001b[0mcb\u001b[0m \u001b[0;32min\u001b[0m \u001b[0mself\u001b[0m\u001b[0;34m.\u001b[0m\u001b[0mcallbacks\u001b[0m\u001b[0;34m:\u001b[0m \u001b[0mself\u001b[0m\u001b[0;34m.\u001b[0m\u001b[0m_call_and_update\u001b[0m\u001b[0;34m(\u001b[0m\u001b[0mcb\u001b[0m\u001b[0;34m,\u001b[0m \u001b[0mcb_name\u001b[0m\u001b[0;34m,\u001b[0m \u001b[0;34m**\u001b[0m\u001b[0mkwargs\u001b[0m\u001b[0;34m)\u001b[0m\u001b[0;34m\u001b[0m\u001b[0;34m\u001b[0m\u001b[0m\n\u001b[0m\u001b[1;32m    252\u001b[0m \u001b[0;34m\u001b[0m\u001b[0m\n\u001b[1;32m    253\u001b[0m     \u001b[0;32mdef\u001b[0m \u001b[0mset_dl\u001b[0m\u001b[0;34m(\u001b[0m\u001b[0mself\u001b[0m\u001b[0;34m,\u001b[0m \u001b[0mdl\u001b[0m\u001b[0;34m:\u001b[0m\u001b[0mDataLoader\u001b[0m\u001b[0;34m)\u001b[0m\u001b[0;34m:\u001b[0m\u001b[0;34m\u001b[0m\u001b[0;34m\u001b[0m\u001b[0m\n",
      "\u001b[0;32m/opt/conda/lib/python3.7/site-packages/fastai/callback.py\u001b[0m in \u001b[0;36m_call_and_update\u001b[0;34m(self, cb, cb_name, **kwargs)\u001b[0m\n\u001b[1;32m    239\u001b[0m     \u001b[0;32mdef\u001b[0m \u001b[0m_call_and_update\u001b[0m\u001b[0;34m(\u001b[0m\u001b[0mself\u001b[0m\u001b[0;34m,\u001b[0m \u001b[0mcb\u001b[0m\u001b[0;34m,\u001b[0m \u001b[0mcb_name\u001b[0m\u001b[0;34m,\u001b[0m \u001b[0;34m**\u001b[0m\u001b[0mkwargs\u001b[0m\u001b[0;34m)\u001b[0m\u001b[0;34m->\u001b[0m\u001b[0;32mNone\u001b[0m\u001b[0;34m:\u001b[0m\u001b[0;34m\u001b[0m\u001b[0;34m\u001b[0m\u001b[0m\n\u001b[1;32m    240\u001b[0m         \u001b[0;34m\"Call `cb_name` on `cb` and update the inner state.\"\u001b[0m\u001b[0;34m\u001b[0m\u001b[0;34m\u001b[0m\u001b[0m\n\u001b[0;32m--> 241\u001b[0;31m         \u001b[0mnew\u001b[0m \u001b[0;34m=\u001b[0m \u001b[0mifnone\u001b[0m\u001b[0;34m(\u001b[0m\u001b[0mgetattr\u001b[0m\u001b[0;34m(\u001b[0m\u001b[0mcb\u001b[0m\u001b[0;34m,\u001b[0m \u001b[0;34mf'on_{cb_name}'\u001b[0m\u001b[0;34m)\u001b[0m\u001b[0;34m(\u001b[0m\u001b[0;34m**\u001b[0m\u001b[0mself\u001b[0m\u001b[0;34m.\u001b[0m\u001b[0mstate_dict\u001b[0m\u001b[0;34m,\u001b[0m \u001b[0;34m**\u001b[0m\u001b[0mkwargs\u001b[0m\u001b[0;34m)\u001b[0m\u001b[0;34m,\u001b[0m \u001b[0mdict\u001b[0m\u001b[0;34m(\u001b[0m\u001b[0;34m)\u001b[0m\u001b[0;34m)\u001b[0m\u001b[0;34m\u001b[0m\u001b[0;34m\u001b[0m\u001b[0m\n\u001b[0m\u001b[1;32m    242\u001b[0m         \u001b[0;32mfor\u001b[0m \u001b[0mk\u001b[0m\u001b[0;34m,\u001b[0m\u001b[0mv\u001b[0m \u001b[0;32min\u001b[0m \u001b[0mnew\u001b[0m\u001b[0;34m.\u001b[0m\u001b[0mitems\u001b[0m\u001b[0;34m(\u001b[0m\u001b[0;34m)\u001b[0m\u001b[0;34m:\u001b[0m\u001b[0;34m\u001b[0m\u001b[0;34m\u001b[0m\u001b[0m\n\u001b[1;32m    243\u001b[0m             \u001b[0;32mif\u001b[0m \u001b[0mk\u001b[0m \u001b[0;32mnot\u001b[0m \u001b[0;32min\u001b[0m \u001b[0mself\u001b[0m\u001b[0;34m.\u001b[0m\u001b[0mstate_dict\u001b[0m\u001b[0;34m:\u001b[0m\u001b[0;34m\u001b[0m\u001b[0;34m\u001b[0m\u001b[0m\n",
      "\u001b[0;32m/opt/conda/lib/python3.7/site-packages/fastai/callbacks/fp16.py\u001b[0m in \u001b[0;36mon_backward_end\u001b[0;34m(self, **kwargs)\u001b[0m\n\u001b[1;32m     99\u001b[0m     \u001b[0;32mdef\u001b[0m \u001b[0mon_backward_end\u001b[0m\u001b[0;34m(\u001b[0m\u001b[0mself\u001b[0m\u001b[0;34m,\u001b[0m \u001b[0;34m**\u001b[0m\u001b[0mkwargs\u001b[0m\u001b[0;34m:\u001b[0m\u001b[0mAny\u001b[0m\u001b[0;34m)\u001b[0m\u001b[0;34m->\u001b[0m\u001b[0;32mNone\u001b[0m\u001b[0;34m:\u001b[0m\u001b[0;34m\u001b[0m\u001b[0;34m\u001b[0m\u001b[0m\n\u001b[1;32m    100\u001b[0m         \u001b[0;34m\"Convert the gradients back to FP32 and divide them by the scale.\"\u001b[0m\u001b[0;34m\u001b[0m\u001b[0;34m\u001b[0m\u001b[0m\n\u001b[0;32m--> 101\u001b[0;31m         \u001b[0;32mif\u001b[0m \u001b[0mself\u001b[0m\u001b[0;34m.\u001b[0m\u001b[0mdynamic\u001b[0m \u001b[0;32mand\u001b[0m \u001b[0mgrad_overflow\u001b[0m\u001b[0;34m(\u001b[0m\u001b[0mself\u001b[0m\u001b[0;34m.\u001b[0m\u001b[0mmodel_params\u001b[0m\u001b[0;34m)\u001b[0m \u001b[0;32mand\u001b[0m \u001b[0mself\u001b[0m\u001b[0;34m.\u001b[0m\u001b[0mloss_scale\u001b[0m \u001b[0;34m>\u001b[0m \u001b[0;36m1\u001b[0m\u001b[0;34m:\u001b[0m\u001b[0;34m\u001b[0m\u001b[0;34m\u001b[0m\u001b[0m\n\u001b[0m\u001b[1;32m    102\u001b[0m             \u001b[0mself\u001b[0m\u001b[0;34m.\u001b[0m\u001b[0mloss_scale\u001b[0m \u001b[0;34m/=\u001b[0m \u001b[0;36m2\u001b[0m\u001b[0;34m\u001b[0m\u001b[0;34m\u001b[0m\u001b[0m\n\u001b[1;32m    103\u001b[0m             \u001b[0mself\u001b[0m\u001b[0;34m.\u001b[0m\u001b[0mnoskip\u001b[0m \u001b[0;34m=\u001b[0m \u001b[0;36m0\u001b[0m\u001b[0;34m\u001b[0m\u001b[0;34m\u001b[0m\u001b[0m\n",
      "\u001b[0;32m/opt/conda/lib/python3.7/site-packages/fastai/callbacks/fp16.py\u001b[0m in \u001b[0;36mgrad_overflow\u001b[0;34m(param_group)\u001b[0m\n\u001b[1;32m     58\u001b[0m         \u001b[0;32mfor\u001b[0m \u001b[0mp\u001b[0m \u001b[0;32min\u001b[0m \u001b[0mgroup\u001b[0m\u001b[0;34m:\u001b[0m\u001b[0;34m\u001b[0m\u001b[0;34m\u001b[0m\u001b[0m\n\u001b[1;32m     59\u001b[0m             \u001b[0;32mif\u001b[0m \u001b[0mp\u001b[0m\u001b[0;34m.\u001b[0m\u001b[0mgrad\u001b[0m \u001b[0;32mis\u001b[0m \u001b[0;32mnot\u001b[0m \u001b[0;32mNone\u001b[0m\u001b[0;34m:\u001b[0m\u001b[0;34m\u001b[0m\u001b[0;34m\u001b[0m\u001b[0m\n\u001b[0;32m---> 60\u001b[0;31m                 \u001b[0ms\u001b[0m \u001b[0;34m=\u001b[0m \u001b[0mfloat\u001b[0m\u001b[0;34m(\u001b[0m\u001b[0mp\u001b[0m\u001b[0;34m.\u001b[0m\u001b[0mgrad\u001b[0m\u001b[0;34m.\u001b[0m\u001b[0mdata\u001b[0m\u001b[0;34m.\u001b[0m\u001b[0mfloat\u001b[0m\u001b[0;34m(\u001b[0m\u001b[0;34m)\u001b[0m\u001b[0;34m.\u001b[0m\u001b[0msum\u001b[0m\u001b[0;34m(\u001b[0m\u001b[0;34m)\u001b[0m\u001b[0;34m)\u001b[0m\u001b[0;34m\u001b[0m\u001b[0;34m\u001b[0m\u001b[0m\n\u001b[0m\u001b[1;32m     61\u001b[0m                 \u001b[0;32mif\u001b[0m \u001b[0ms\u001b[0m \u001b[0;34m==\u001b[0m \u001b[0mfloat\u001b[0m\u001b[0;34m(\u001b[0m\u001b[0;34m'inf'\u001b[0m\u001b[0;34m)\u001b[0m \u001b[0;32mor\u001b[0m \u001b[0ms\u001b[0m \u001b[0;34m==\u001b[0m \u001b[0mfloat\u001b[0m\u001b[0;34m(\u001b[0m\u001b[0;34m'-inf'\u001b[0m\u001b[0;34m)\u001b[0m \u001b[0;32mor\u001b[0m \u001b[0ms\u001b[0m \u001b[0;34m!=\u001b[0m \u001b[0ms\u001b[0m\u001b[0;34m:\u001b[0m \u001b[0;32mreturn\u001b[0m \u001b[0;32mTrue\u001b[0m\u001b[0;34m\u001b[0m\u001b[0;34m\u001b[0m\u001b[0m\n\u001b[1;32m     62\u001b[0m     \u001b[0;32mreturn\u001b[0m \u001b[0;32mFalse\u001b[0m\u001b[0;34m\u001b[0m\u001b[0;34m\u001b[0m\u001b[0m\n",
      "\u001b[0;31mKeyboardInterrupt\u001b[0m: "
     ]
    }
   ],
   "source": [
    "learn.fit(100, 4e-3, wd=1e-3,\n",
    "           callbacks=[\n",
    "                     ReduceLROnPlateauCallback(learn, monitor='metric_tot', mode='max', patience=10, factor=0.5),\n",
    "                     CSVLogger(learn,f'log_{exper}_fold{fold}'), \n",
    "                     SaveModelCallback(learn,monitor='metric_tot', mode='max',name=f'{exper}_{fold}'),\n",
    "                     MixUpCallback(learn, alpha=0.1),\n",
    "#                      LearnerTensorboardWriter(learn, base_dir=Path('tensorboard/'), name = exper)\n",
    "                    ])"
   ]
  },
  {
   "cell_type": "code",
   "execution_count": 18,
   "metadata": {
    "ExecuteTime": {
     "end_time": "2020-03-04T11:16:45.667260Z",
     "start_time": "2020-03-04T11:16:45.636154Z"
    }
   },
   "outputs": [],
   "source": [
    "learn.unfreeze()"
   ]
  },
  {
   "cell_type": "code",
   "execution_count": null,
   "metadata": {
    "ExecuteTime": {
     "start_time": "2020-03-04T10:56:44.189Z"
    },
    "scrolled": true
   },
   "outputs": [
    {
     "data": {
      "text/html": [
       "\n",
       "    <div>\n",
       "        <style>\n",
       "            /* Turns off some styling */\n",
       "            progress {\n",
       "                /* gets rid of default border in Firefox and Opera. */\n",
       "                border: none;\n",
       "                /* Needs to be in here for Safari polyfill so background images work as expected. */\n",
       "                background-size: auto;\n",
       "            }\n",
       "            .progress-bar-interrupted, .progress-bar-interrupted::-webkit-progress-bar {\n",
       "                background: #F44336;\n",
       "            }\n",
       "        </style>\n",
       "      <progress value='26' class='' max='100', style='width:300px; height:20px; vertical-align: middle;'></progress>\n",
       "      26.00% [26/100 5:59:32<17:03:17]\n",
       "    </div>\n",
       "    \n",
       "<table border=\"1\" class=\"dataframe\">\n",
       "  <thead>\n",
       "    <tr style=\"text-align: left;\">\n",
       "      <th>epoch</th>\n",
       "      <th>train_loss</th>\n",
       "      <th>valid_loss</th>\n",
       "      <th>Metric_root</th>\n",
       "      <th>Metric_vowel</th>\n",
       "      <th>Metric_consonant</th>\n",
       "      <th>metric_tot</th>\n",
       "      <th>time</th>\n",
       "    </tr>\n",
       "  </thead>\n",
       "  <tbody>\n",
       "    <tr>\n",
       "      <td>0</td>\n",
       "      <td>1.621458</td>\n",
       "      <td>0.734136</td>\n",
       "      <td>0.721871</td>\n",
       "      <td>0.918829</td>\n",
       "      <td>0.859963</td>\n",
       "      <td>0.805633</td>\n",
       "      <td>13:49</td>\n",
       "    </tr>\n",
       "    <tr>\n",
       "      <td>1</td>\n",
       "      <td>1.487337</td>\n",
       "      <td>0.389390</td>\n",
       "      <td>0.888156</td>\n",
       "      <td>0.945936</td>\n",
       "      <td>0.924045</td>\n",
       "      <td>0.911574</td>\n",
       "      <td>13:48</td>\n",
       "    </tr>\n",
       "    <tr>\n",
       "      <td>2</td>\n",
       "      <td>1.391712</td>\n",
       "      <td>0.320340</td>\n",
       "      <td>0.917272</td>\n",
       "      <td>0.960971</td>\n",
       "      <td>0.936728</td>\n",
       "      <td>0.933061</td>\n",
       "      <td>13:48</td>\n",
       "    </tr>\n",
       "    <tr>\n",
       "      <td>3</td>\n",
       "      <td>1.312901</td>\n",
       "      <td>0.360482</td>\n",
       "      <td>0.902112</td>\n",
       "      <td>0.966263</td>\n",
       "      <td>0.946196</td>\n",
       "      <td>0.929171</td>\n",
       "      <td>13:48</td>\n",
       "    </tr>\n",
       "    <tr>\n",
       "      <td>4</td>\n",
       "      <td>1.255810</td>\n",
       "      <td>0.354373</td>\n",
       "      <td>0.929685</td>\n",
       "      <td>0.959236</td>\n",
       "      <td>0.946183</td>\n",
       "      <td>0.941197</td>\n",
       "      <td>13:47</td>\n",
       "    </tr>\n",
       "    <tr>\n",
       "      <td>5</td>\n",
       "      <td>1.208608</td>\n",
       "      <td>0.307193</td>\n",
       "      <td>0.932170</td>\n",
       "      <td>0.965462</td>\n",
       "      <td>0.959681</td>\n",
       "      <td>0.947371</td>\n",
       "      <td>13:48</td>\n",
       "    </tr>\n",
       "    <tr>\n",
       "      <td>6</td>\n",
       "      <td>1.185065</td>\n",
       "      <td>0.274385</td>\n",
       "      <td>0.938870</td>\n",
       "      <td>0.970036</td>\n",
       "      <td>0.963543</td>\n",
       "      <td>0.952830</td>\n",
       "      <td>13:49</td>\n",
       "    </tr>\n",
       "    <tr>\n",
       "      <td>7</td>\n",
       "      <td>1.148231</td>\n",
       "      <td>0.174428</td>\n",
       "      <td>0.946963</td>\n",
       "      <td>0.976848</td>\n",
       "      <td>0.968304</td>\n",
       "      <td>0.959770</td>\n",
       "      <td>13:47</td>\n",
       "    </tr>\n",
       "    <tr>\n",
       "      <td>8</td>\n",
       "      <td>1.120690</td>\n",
       "      <td>0.175093</td>\n",
       "      <td>0.953538</td>\n",
       "      <td>0.977059</td>\n",
       "      <td>0.974496</td>\n",
       "      <td>0.964658</td>\n",
       "      <td>13:48</td>\n",
       "    </tr>\n",
       "    <tr>\n",
       "      <td>9</td>\n",
       "      <td>1.084080</td>\n",
       "      <td>0.186077</td>\n",
       "      <td>0.950990</td>\n",
       "      <td>0.976528</td>\n",
       "      <td>0.972921</td>\n",
       "      <td>0.962857</td>\n",
       "      <td>13:47</td>\n",
       "    </tr>\n",
       "    <tr>\n",
       "      <td>10</td>\n",
       "      <td>1.070014</td>\n",
       "      <td>0.146336</td>\n",
       "      <td>0.955425</td>\n",
       "      <td>0.979053</td>\n",
       "      <td>0.977494</td>\n",
       "      <td>0.966849</td>\n",
       "      <td>13:48</td>\n",
       "    </tr>\n",
       "    <tr>\n",
       "      <td>11</td>\n",
       "      <td>1.033838</td>\n",
       "      <td>0.153912</td>\n",
       "      <td>0.956015</td>\n",
       "      <td>0.979451</td>\n",
       "      <td>0.969695</td>\n",
       "      <td>0.965294</td>\n",
       "      <td>13:48</td>\n",
       "    </tr>\n",
       "    <tr>\n",
       "      <td>12</td>\n",
       "      <td>1.015208</td>\n",
       "      <td>0.130026</td>\n",
       "      <td>0.959417</td>\n",
       "      <td>0.980256</td>\n",
       "      <td>0.978563</td>\n",
       "      <td>0.969413</td>\n",
       "      <td>13:48</td>\n",
       "    </tr>\n",
       "    <tr>\n",
       "      <td>13</td>\n",
       "      <td>0.974496</td>\n",
       "      <td>0.139415</td>\n",
       "      <td>0.963734</td>\n",
       "      <td>0.982163</td>\n",
       "      <td>0.977140</td>\n",
       "      <td>0.971693</td>\n",
       "      <td>13:48</td>\n",
       "    </tr>\n",
       "    <tr>\n",
       "      <td>14</td>\n",
       "      <td>0.978218</td>\n",
       "      <td>0.127391</td>\n",
       "      <td>0.962884</td>\n",
       "      <td>0.981642</td>\n",
       "      <td>0.974666</td>\n",
       "      <td>0.970519</td>\n",
       "      <td>13:48</td>\n",
       "    </tr>\n",
       "    <tr>\n",
       "      <td>15</td>\n",
       "      <td>0.947240</td>\n",
       "      <td>0.106207</td>\n",
       "      <td>0.968316</td>\n",
       "      <td>0.982777</td>\n",
       "      <td>0.979676</td>\n",
       "      <td>0.974771</td>\n",
       "      <td>13:48</td>\n",
       "    </tr>\n",
       "    <tr>\n",
       "      <td>16</td>\n",
       "      <td>0.941887</td>\n",
       "      <td>0.129256</td>\n",
       "      <td>0.968157</td>\n",
       "      <td>0.984327</td>\n",
       "      <td>0.981359</td>\n",
       "      <td>0.975500</td>\n",
       "      <td>13:48</td>\n",
       "    </tr>\n",
       "    <tr>\n",
       "      <td>17</td>\n",
       "      <td>0.932239</td>\n",
       "      <td>0.127721</td>\n",
       "      <td>0.963397</td>\n",
       "      <td>0.983452</td>\n",
       "      <td>0.980828</td>\n",
       "      <td>0.972768</td>\n",
       "      <td>13:48</td>\n",
       "    </tr>\n",
       "    <tr>\n",
       "      <td>18</td>\n",
       "      <td>0.887546</td>\n",
       "      <td>0.126604</td>\n",
       "      <td>0.964210</td>\n",
       "      <td>0.984241</td>\n",
       "      <td>0.977864</td>\n",
       "      <td>0.972631</td>\n",
       "      <td>13:48</td>\n",
       "    </tr>\n",
       "    <tr>\n",
       "      <td>19</td>\n",
       "      <td>0.884224</td>\n",
       "      <td>0.104341</td>\n",
       "      <td>0.968076</td>\n",
       "      <td>0.984462</td>\n",
       "      <td>0.980381</td>\n",
       "      <td>0.975249</td>\n",
       "      <td>13:48</td>\n",
       "    </tr>\n",
       "    <tr>\n",
       "      <td>20</td>\n",
       "      <td>0.865797</td>\n",
       "      <td>0.131352</td>\n",
       "      <td>0.966566</td>\n",
       "      <td>0.984704</td>\n",
       "      <td>0.977374</td>\n",
       "      <td>0.973802</td>\n",
       "      <td>13:48</td>\n",
       "    </tr>\n",
       "    <tr>\n",
       "      <td>21</td>\n",
       "      <td>0.866927</td>\n",
       "      <td>0.105743</td>\n",
       "      <td>0.967914</td>\n",
       "      <td>0.984788</td>\n",
       "      <td>0.978542</td>\n",
       "      <td>0.974790</td>\n",
       "      <td>13:49</td>\n",
       "    </tr>\n",
       "    <tr>\n",
       "      <td>22</td>\n",
       "      <td>0.842281</td>\n",
       "      <td>0.104850</td>\n",
       "      <td>0.969488</td>\n",
       "      <td>0.985247</td>\n",
       "      <td>0.981431</td>\n",
       "      <td>0.976414</td>\n",
       "      <td>13:50</td>\n",
       "    </tr>\n",
       "    <tr>\n",
       "      <td>23</td>\n",
       "      <td>0.851041</td>\n",
       "      <td>0.104176</td>\n",
       "      <td>0.971344</td>\n",
       "      <td>0.984242</td>\n",
       "      <td>0.980645</td>\n",
       "      <td>0.976894</td>\n",
       "      <td>13:49</td>\n",
       "    </tr>\n",
       "    <tr>\n",
       "      <td>24</td>\n",
       "      <td>0.821326</td>\n",
       "      <td>0.104457</td>\n",
       "      <td>0.968972</td>\n",
       "      <td>0.984799</td>\n",
       "      <td>0.980226</td>\n",
       "      <td>0.975742</td>\n",
       "      <td>13:49</td>\n",
       "    </tr>\n",
       "    <tr>\n",
       "      <td>25</td>\n",
       "      <td>0.816900</td>\n",
       "      <td>0.099767</td>\n",
       "      <td>0.969800</td>\n",
       "      <td>0.985673</td>\n",
       "      <td>0.983378</td>\n",
       "      <td>0.977163</td>\n",
       "      <td>13:49</td>\n",
       "    </tr>\n",
       "  </tbody>\n",
       "</table><p>\n",
       "\n",
       "    <div>\n",
       "        <style>\n",
       "            /* Turns off some styling */\n",
       "            progress {\n",
       "                /* gets rid of default border in Firefox and Opera. */\n",
       "                border: none;\n",
       "                /* Needs to be in here for Safari polyfill so background images work as expected. */\n",
       "                background-size: auto;\n",
       "            }\n",
       "            .progress-bar-interrupted, .progress-bar-interrupted::-webkit-progress-bar {\n",
       "                background: #F44336;\n",
       "            }\n",
       "        </style>\n",
       "      <progress value='114' class='' max='1672', style='width:300px; height:20px; vertical-align: middle;'></progress>\n",
       "      6.82% [114/1672 00:54<12:29 0.8085]\n",
       "    </div>\n",
       "    "
      ],
      "text/plain": [
       "<IPython.core.display.HTML object>"
      ]
     },
     "metadata": {},
     "output_type": "display_data"
    }
   ],
   "source": [
    "learn.fit(100, slice(1e-5, 7e-3/2), wd=1e-4,\n",
    "           callbacks=[\n",
    "                     ReduceLROnPlateauCallback(learn, monitor='metric_tot', mode='max', patience=5, factor=0.5),\n",
    "                     CSVLogger(learn,f'log_{exper}_fold{fold}_unfreeze'), \n",
    "                     SaveModelCallback(learn,monitor='metric_tot', mode='max',name=f'{exper}_{fold}_unfreeze'),\n",
    "                     MixUpCallback(learn),\n",
    "#                      LearnerTensorboardWriter(learn, base_dir=Path('tensorboard/'), name = exper)\n",
    "                    ])"
   ]
  },
  {
   "cell_type": "code",
   "execution_count": null,
   "metadata": {
    "ExecuteTime": {
     "end_time": "2020-02-22T23:57:38.776958Z",
     "start_time": "2020-02-22T23:57:35.505Z"
    }
   },
   "outputs": [],
   "source": [
    "learn.recorder.plot_losses()"
   ]
  },
  {
   "cell_type": "code",
   "execution_count": null,
   "metadata": {
    "ExecuteTime": {
     "end_time": "2020-02-22T23:57:38.778002Z",
     "start_time": "2020-02-22T23:57:35.507Z"
    }
   },
   "outputs": [],
   "source": [
    "learn.recorder.plot_metrics()"
   ]
  },
  {
   "cell_type": "code",
   "execution_count": null,
   "metadata": {},
   "outputs": [],
   "source": []
  }
 ],
 "metadata": {
  "kernelspec": {
   "display_name": "Python 3",
   "language": "python",
   "name": "python3"
  },
  "language_info": {
   "codemirror_mode": {
    "name": "ipython",
    "version": 3
   },
   "file_extension": ".py",
   "mimetype": "text/x-python",
   "name": "python",
   "nbconvert_exporter": "python",
   "pygments_lexer": "ipython3",
   "version": "3.7.3"
  },
  "toc": {
   "base_numbering": 1,
   "nav_menu": {},
   "number_sections": true,
   "sideBar": true,
   "skip_h1_title": false,
   "title_cell": "Table of Contents",
   "title_sidebar": "Contents",
   "toc_cell": false,
   "toc_position": {
    "height": "calc(100% - 180px)",
    "left": "10px",
    "top": "150px",
    "width": "165px"
   },
   "toc_section_display": true,
   "toc_window_display": true
  }
 },
 "nbformat": 4,
 "nbformat_minor": 4
}
